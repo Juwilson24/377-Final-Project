{
 "cells": [
  {
   "cell_type": "code",
   "execution_count": 3,
   "id": "f18f9337-d202-4e0d-a5b9-920c7a9e7ad9",
   "metadata": {},
   "outputs": [
    {
     "ename": "ModuleNotFoundError",
     "evalue": "No module named 'geopandas'",
     "output_type": "error",
     "traceback": [
      "\u001b[0;31m---------------------------------------------------------------------------\u001b[0m",
      "\u001b[0;31mModuleNotFoundError\u001b[0m                       Traceback (most recent call last)",
      "Cell \u001b[0;32mIn[3], line 2\u001b[0m\n\u001b[1;32m      1\u001b[0m \u001b[38;5;28;01mimport\u001b[39;00m \u001b[38;5;21;01mpandas\u001b[39;00m \u001b[38;5;28;01mas\u001b[39;00m \u001b[38;5;21;01mpd\u001b[39;00m\n\u001b[0;32m----> 2\u001b[0m \u001b[38;5;28;01mimport\u001b[39;00m \u001b[38;5;21;01mgeopandas\u001b[39;00m \u001b[38;5;28;01mas\u001b[39;00m \u001b[38;5;21;01mgpd\u001b[39;00m\n\u001b[1;32m      3\u001b[0m \u001b[38;5;28;01mimport\u001b[39;00m \u001b[38;5;21;01mmatplotlib\u001b[39;00m\u001b[38;5;21;01m.\u001b[39;00m\u001b[38;5;21;01mpyplot\u001b[39;00m \u001b[38;5;28;01mas\u001b[39;00m \u001b[38;5;21;01mplt\u001b[39;00m\n\u001b[1;32m      4\u001b[0m \u001b[38;5;28;01mimport\u001b[39;00m \u001b[38;5;21;01mfolium\u001b[39;00m\n",
      "\u001b[0;31mModuleNotFoundError\u001b[0m: No module named 'geopandas'"
     ]
    }
   ],
   "source": [
    "import pandas as pd\n",
    "import geopandas as gpd\n",
    "import matplotlib.pyplot as plt\n",
    "import folium\n",
    "from shapely.geometry import Point\n",
    "import contextily as ctx\n",
    "from sklearn.preprocessing import StandardScaler\n",
    "from sklearn.ensemble import RandomForestRegressor"
   ]
  },
  {
   "cell_type": "code",
   "execution_count": null,
   "id": "906e0703-e453-47ec-b9b2-121cb93c9723",
   "metadata": {
    "tags": []
   },
   "outputs": [
    {
     "name": "stdout",
     "output_type": "stream",
     "text": [
      "Collecting package metadata (current_repodata.json): done\n",
      "Solving environment: | \n",
      "The environment is inconsistent, please check the package plan carefully\n",
      "The following packages are causing the inconsistency:\n",
      "\n",
      "  - defaults/osx-arm64::bokeh==3.2.1=py311hb6e6a13_0\n",
      "  - defaults/osx-arm64::_anaconda_depends==2023.09=py311_openblas_1\n",
      "  - defaults/noarch::itemloaders==1.0.4=pyhd3eb1b0_1\n",
      "  - defaults/osx-arm64::anaconda-catalogs==0.2.0=py311hca03da5_0\n",
      "  - defaults/osx-arm64::twisted==22.10.0=py311h80987f9_0\n",
      "  - defaults/osx-arm64::dask==2023.6.0=py311hca03da5_0\n",
      "  - defaults/osx-arm64::datasets==2.12.0=py311hca03da5_0\n",
      "  - defaults/osx-arm64::transformers==4.32.1=py311hca03da5_0\n",
      "  - defaults/osx-arm64::xarray==2023.6.0=py311hca03da5_0\n",
      "  - defaults/osx-arm64::hvplot==0.8.4=py311hca03da5_0\n",
      "  - defaults/osx-arm64::statsmodels==0.14.0=py311hb9f6ed7_0\n",
      "  - defaults/osx-arm64::datashader==0.15.2=py311hca03da5_0\n",
      "  - defaults/osx-arm64::scrapy==2.8.0=py311hca03da5_0\n",
      "  - defaults/osx-arm64::parsel==1.6.0=py311hca03da5_0\n",
      "  - defaults/osx-arm64::panel==1.2.3=py311hca03da5_0\n",
      "  - defaults/osx-arm64::holoviews==1.17.1=py311hca03da5_0\n",
      "  - defaults/osx-arm64::seaborn==0.12.2=py311hca03da5_0\n",
      "  - defaults/osx-arm64::bcrypt==3.2.0=py311h80987f9_1\n",
      "  - defaults/osx-arm64::intake==0.6.8=py311hca03da5_0\n",
      "unsuccessful initial attempt using frozen solve. Retrying with flexible solve.\n",
      "Solving environment: - "
     ]
    }
   ],
   "source": []
  }
 ],
 "metadata": {
  "kernelspec": {
   "display_name": "Python 3 (ipykernel)",
   "language": "python",
   "name": "python3"
  },
  "language_info": {
   "codemirror_mode": {
    "name": "ipython",
    "version": 3
   },
   "file_extension": ".py",
   "mimetype": "text/x-python",
   "name": "python",
   "nbconvert_exporter": "python",
   "pygments_lexer": "ipython3",
   "version": "3.11.5"
  }
 },
 "nbformat": 4,
 "nbformat_minor": 5
}
