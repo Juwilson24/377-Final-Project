{
 "cells": [
  {
   "cell_type": "code",
   "execution_count": 1,
   "id": "3b3d8608-8bb7-49a6-b3b3-c347a66db291",
   "metadata": {},
   "outputs": [],
   "source": [
    "import pandas as pd\n",
    "import numpy as np\n",
    "\n",
    "# Load your .gz file (assuming it's a CSV compressed with gzip)\n",
    "df = pd.read_csv('inputs/state_market_tracker.tsv000.gz', compression='gzip')\n"
   ]
  },
  {
   "cell_type": "code",
   "execution_count": 2,
   "id": "4a56bc14-22e4-4c85-ae64-8e86f64c56d6",
   "metadata": {},
   "outputs": [
    {
     "data": {
      "text/plain": [
       "<bound method NDFrame.head of       PERIOD_BEGIN\\t\"PERIOD_END\"\\t\"PERIOD_DURATION\"\\t\"REGION_TYPE\"\\t\"REGION_TYPE_ID\"\\t\"TABLE_ID\"\\t\"IS_SEASONALLY_ADJUSTED\"\\t\"REGION\"\\t\"CITY\"\\t\"STATE\"\\t\"STATE_CODE\"\\t\"PROPERTY_TYPE\"\\t\"PROPERTY_TYPE_ID\"\\t\"MEDIAN_SALE_PRICE\"\\t\"MEDIAN_SALE_PRICE_MOM\"\\t\"MEDIAN_SALE_PRICE_YOY\"\\t\"MEDIAN_LIST_PRICE\"\\t\"MEDIAN_LIST_PRICE_MOM\"\\t\"MEDIAN_LIST_PRICE_YOY\"\\t\"MEDIAN_PPSF\"\\t\"MEDIAN_PPSF_MOM\"\\t\"MEDIAN_PPSF_YOY\"\\t\"MEDIAN_LIST_PPSF\"\\t\"MEDIAN_LIST_PPSF_MOM\"\\t\"MEDIAN_LIST_PPSF_YOY\"\\t\"HOMES_SOLD\"\\t\"HOMES_SOLD_MOM\"\\t\"HOMES_SOLD_YOY\"\\t\"PENDING_SALES\"\\t\"PENDING_SALES_MOM\"\\t\"PENDING_SALES_YOY\"\\t\"NEW_LISTINGS\"\\t\"NEW_LISTINGS_MOM\"\\t\"NEW_LISTINGS_YOY\"\\t\"INVENTORY\"\\t\"INVENTORY_MOM\"\\t\"INVENTORY_YOY\"\\t\"MONTHS_OF_SUPPLY\"\\t\"MONTHS_OF_SUPPLY_MOM\"\\t\"MONTHS_OF_SUPPLY_YOY\"\\t\"MEDIAN_DOM\"\\t\"MEDIAN_DOM_MOM\"\\t\"MEDIAN_DOM_YOY\"\\t\"AVG_SALE_TO_LIST\"\\t\"AVG_SALE_TO_LIST_MOM\"\\t\"AVG_SALE_TO_LIST_YOY\"\\t\"SOLD_ABOVE_LIST\"\\t\"SOLD_ABOVE_LIST_MOM\"\\t\"SOLD_ABOVE_LIST_YOY\"\\t\"PRICE_DROPS\"\\t\"PRICE_DROPS_MOM\"\\t\"PRICE_DROPS_YOY\"\\t\"OFF_MARKET_IN_TWO_WEEKS\"\\t\"OFF_MARKET_IN_TWO_WEEKS_MOM\"\\t\"OFF_MARKET_IN_TWO_WEEKS_YOY\"\\t\"PARENT_METRO_REGION\"\\t\"PARENT_METRO_REGION_METRO_CODE\"\\t\"LAST_UPDATED\"\n",
       "0      2022-08-01\\t\"2022-08-31\"\\t30\\t\"state\"\\t4\\t21\\t...                                                                                                                                                                                                                                                                                                                                                                                                                                                                                                                                                                                                                                                                                                                                                                                                                                                                                                                                                                                                                                                                                                                             \n",
       "1      2014-07-01\\t\"2014-07-31\"\\t30\\t\"state\"\\t4\\t50\\t...                                                                                                                                                                                                                                                                                                                                                                                                                                                                                                                                                                                                                                                                                                                                                                                                                                                                                                                                                                                                                                                                                                                             \n",
       "2      2020-01-01\\t\"2020-01-31\"\\t30\\t\"state\"\\t4\\t49\\t...                                                                                                                                                                                                                                                                                                                                                                                                                                                                                                                                                                                                                                                                                                                                                                                                                                                                                                                                                                                                                                                                                                                             \n",
       "3      2020-08-01\\t\"2020-08-31\"\\t30\\t\"state\"\\t4\\t23\\t...                                                                                                                                                                                                                                                                                                                                                                                                                                                                                                                                                                                                                                                                                                                                                                                                                                                                                                                                                                                                                                                                                                                             \n",
       "4      2018-12-01\\t\"2018-12-31\"\\t30\\t\"state\"\\t4\\t27\\t...                                                                                                                                                                                                                                                                                                                                                                                                                                                                                                                                                                                                                                                                                                                                                                                                                                                                                                                                                                                                                                                                                                                             \n",
       "...                                                  ...                                                                                                                                                                                                                                                                                                                                                                                                                                                                                                                                                                                                                                                                                                                                                                                                                                                                                                                                                                                                                                                                                                                             \n",
       "39297  2018-06-01\\t\"2018-06-30\"\\t30\\t\"state\"\\t4\\t47\\t...                                                                                                                                                                                                                                                                                                                                                                                                                                                                                                                                                                                                                                                                                                                                                                                                                                                                                                                                                                                                                                                                                                                             \n",
       "39298  2015-10-01\\t\"2015-10-31\"\\t30\\t\"state\"\\t4\\t29\\t...                                                                                                                                                                                                                                                                                                                                                                                                                                                                                                                                                                                                                                                                                                                                                                                                                                                                                                                                                                                                                                                                                                                             \n",
       "39299  2019-01-01\\t\"2019-01-31\"\\t30\\t\"state\"\\t4\\t23\\t...                                                                                                                                                                                                                                                                                                                                                                                                                                                                                                                                                                                                                                                                                                                                                                                                                                                                                                                                                                                                                                                                                                                             \n",
       "39300  2022-04-01\\t\"2022-04-30\"\\t30\\t\"state\"\\t4\\t19\\t...                                                                                                                                                                                                                                                                                                                                                                                                                                                                                                                                                                                                                                                                                                                                                                                                                                                                                                                                                                                                                                                                                                                             \n",
       "39301  2012-07-01\\t\"2012-07-31\"\\t30\\t\"state\"\\t4\\t29\\t...                                                                                                                                                                                                                                                                                                                                                                                                                                                                                                                                                                                                                                                                                                                                                                                                                                                                                                                                                                                                                                                                                                                             \n",
       "\n",
       "[39302 rows x 1 columns]>"
      ]
     },
     "execution_count": 2,
     "metadata": {},
     "output_type": "execute_result"
    }
   ],
   "source": [
    "df.head"
   ]
  },
  {
   "cell_type": "code",
   "execution_count": null,
   "id": "13d55e2f-3322-4c8a-b09e-c91fadf7d280",
   "metadata": {},
   "outputs": [],
   "source": []
  }
 ],
 "metadata": {
  "kernelspec": {
   "display_name": "Python 3 (ipykernel)",
   "language": "python",
   "name": "python3"
  },
  "language_info": {
   "codemirror_mode": {
    "name": "ipython",
    "version": 3
   },
   "file_extension": ".py",
   "mimetype": "text/x-python",
   "name": "python",
   "nbconvert_exporter": "python",
   "pygments_lexer": "ipython3",
   "version": "3.9.21"
  }
 },
 "nbformat": 4,
 "nbformat_minor": 5
}
